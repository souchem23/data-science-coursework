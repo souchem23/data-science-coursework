{
  "nbformat": 4,
  "nbformat_minor": 0,
  "metadata": {
    "colab": {
      "provenance": [],
      "include_colab_link": true
    },
    "kernelspec": {
      "name": "python3",
      "display_name": "Python 3"
    },
    "language_info": {
      "name": "python"
    }
  },
  "cells": [
    {
      "cell_type": "markdown",
      "metadata": {
        "id": "view-in-github",
        "colab_type": "text"
      },
      "source": [
        "<a href=\"https://colab.research.google.com/github/souchem23/data-science-coursework/blob/main/Unit1/CompletedUnit1ExercisesSF.ipynb\" target=\"_parent\"><img src=\"https://colab.research.google.com/assets/colab-badge.svg\" alt=\"Open In Colab\"/></a>"
      ]
    },
    {
      "cell_type": "markdown",
      "source": [
        "# Unit 1 Exercises: Data Structure Concepts\n",
        "\n",
        "The following questions will ask you to describe the various objects we learned about in the first Unit.\n",
        "\n",
        "I'm not giving you coding exercises, because we will learn all the coding technqiues we need as we move through the course.\n",
        "\n",
        "What I do need from you right now, is a conceptual understanding how how data is stored in our computer, when we use python."
      ],
      "metadata": {
        "id": "65OCktLjbZmA"
      }
    },
    {
      "cell_type": "markdown",
      "source": [
        "**Task1**:\n",
        "\n",
        "Describe the similarities and differences between an int and a float in python."
      ],
      "metadata": {
        "id": "bt0bWe1evLtv"
      }
    },
    {
      "cell_type": "markdown",
      "source": [
        "**Answer1**:\n",
        "\n",
        "There are various similarities and differences between integers floats in python. At a high level, these data types are used for different purposes. Integers simply represent numerical integers, ranging from negative to positive numbers. Integers do not have decimal points while floats in Python contain decimal points. Both integers and floats are declared in the code in the same manner and both are capble of performing arithmetic operations. Integers in python represent 32 bits while floats represent 64 bits. From the Unit 1 Notes, we can observe that floats often have less precision that integers. A scenario in which we would use integers would be when iterating through a foor loop with indexes. Despite the lack of precision, floats will behave very similarly to the real numbers. For this reason, as long as we are careful (which our libraries will be), the values represented by floats will be very similar to the real numbers, allowing us to perform calculations with values such as the square root of 2. Thus, when absolute precision is extremely important, an integer should be used."
      ],
      "metadata": {
        "id": "FW3KHt4yvt90"
      }
    },
    {
      "cell_type": "markdown",
      "source": [
        "**Task2**:\n",
        "\n",
        "Describe the similarities and differences between: strings, lists, and dicts."
      ],
      "metadata": {
        "id": "mJ_i6he5wwgr"
      }
    },
    {
      "cell_type": "markdown",
      "source": [
        "**Answer2**:\n",
        "\n",
        "Strings, lists, and dictionaries in Python are all datatypes that can be itereated through. Although they are itereated in different ways (strings and lists use indeces while dictionaries mainly use key and value pairs). Dictionaries and lists are a collection of different data types. Strings could be considered as a collection of characters. However, these characters are not individual elements separated by commas and are considered to be one element.\n",
        "\n",
        "Subsequently, strings, lists, and dictionaries also have various uses. Lists are mainly used to store a collection of items, related or unrelated. In other words, I could create a list that represents a collection of different schools subjects: [\"math\", \"science\", \"english\", \"computer science\", \"writing\"]. If these items needed to be grouped together, a list would be the most effective data structure to use. Moreover, if I wanted to add a description to each of the items in this list, such as the number of students who prefer each subject, I would use a dictionary with key/value pairs. For example, {\"math\":500, \"science\":100, \"english\":200, \"computer science\":400, \"writing\":300}, would be used in creating associations between favorite subjects. For example, json files describe dictionaries, with certain values corresponding to specific fields. In a sense, strings could be considered as a collection of letters combined together, such as \"english\" or \"computer science\". You can use strings to index through column names and row names for pandas dataframes.\n",
        "\n",
        "Strings are a collection of characters, and at a low level, the characters are of the same length, so they are much faster to iterate through then dictionaries and arrays that do not contain elements of the same length."
      ],
      "metadata": {
        "id": "iFu5BKyWw98T"
      }
    },
    {
      "cell_type": "markdown",
      "source": [
        "**Task3**:\n",
        "\n",
        "What is a numpy array? Why would we ever use one over a list or dict?"
      ],
      "metadata": {
        "id": "56v05s45yBHk"
      }
    },
    {
      "cell_type": "markdown",
      "source": [
        "**Answer3**:\n",
        "\n",
        "At a high level, a numpy array is a data structure that is similar to a list in python with a few key differences: numpy arrays are not able to change once declared (immutable) and are only capable to holding a single datatype at once. For example, a numpy array defined with floats, strings, and ints will convert all elements to the string datatype. Additionally, they will be converted to all be the same length, which is useful for vectorized operations. Lists and dicts are other data structures that are used for storing multiple elements. Also, numpy library handles float in a different manner than the numpy library handles floats in a superior manner to normal floats in Python (caused by creating floats of the same length). Although lists and dicts can have different types of data, this can make operations slow. Since numpy arrays convert all data to a single type and the same length, operations on numpy arrays are very quick. For very medium-sized datasets, a numpy array could improve the speed of operations, making it a more efficient and scalable choice. Numpy arrays also come with vectorized operations which perform certain mathematical computations in a much more efficient manner than arrays and dictionaries. Moreover, by syncing data formats in a numpy array, the scale of numbers can be compared to each other to draw conclusions about the nature of data."
      ],
      "metadata": {
        "id": "eikgxyNzyLTY"
      }
    },
    {
      "cell_type": "markdown",
      "source": [
        "**Task4**:\n",
        "\n",
        "What is a pandas dataframe? Why would we ever want to use one over a numpy array?"
      ],
      "metadata": {
        "id": "RLaEQ5irywBl"
      }
    },
    {
      "cell_type": "markdown",
      "source": [
        "**Answer4**:\n",
        "\n",
        "It is important to note that the pandas library was built on top of the numpy array. For this reason, many of the optimizations achieved with numpy arrays exisit for a pandas dataframe. For example, pandas dataframes are also capable of performing vectorized operations. By framing data around columns and adding labels, pandas dataframes make it much easier and more convenient to search through data of many types (json, csv, etc). Rather than using numerical indexes (as required by numpy arrays), labeled rows and columns are used by pandas dataframes, improving convenience for data scientists. However, I am making an inference that pandas dataframes may require more processing and memory since data is packaged into columns and rows, resulting in slower calculations. Pandas dataframes are also easy to index through the use of queries which are based off of the added column headers. In addition, pandas dataframes can have multiple data types present within the array and is well suited for the analysis of large datasets. Pandas dataframes also have methods such as \"read_csv\" which can easily read data and represent it in an easy to analyze view compared to a numpy array. Overall, the convenience, ease-of-use, and compatability for larger datasets cement pandas dataframes as a possible option for representing and manipulating data."
      ],
      "metadata": {
        "id": "5IkNlzYpy-HP"
      }
    },
    {
      "cell_type": "markdown",
      "source": [
        "**Task5**:\n",
        "\n",
        "What are for loops, and why would we ever use them?"
      ],
      "metadata": {
        "id": "khRn2d7qz1Y2"
      }
    },
    {
      "cell_type": "markdown",
      "source": [
        "**Answer5**:\n",
        "\n",
        "For loops are a tool that is used to continuously perform an action for a repeated amount of times or until a certain condition is met. The for loops can iterate for a certain number of times or enumerate through the elements in a certain list or array. In general, arrays are used if a function needs to be performed multiple times. It makes the code more concise since the code segment does not need to be copied and pasted over and over again in the code. For example, \"for i in range(100)\" is an example of a for loop that would perform a certain function 100 times. Specifically, I could loop through the all the columns of the dataset to find a certain value. However, it is important to recognize that this function is also optimized by the query function in the pandas library. For loops can also be used to iterate over uniform data. For example, if elements of the list are being added to a certain number in the for loops, all the elements should be numerical, as a string may cause errors. Another use of for loops would be in numpy arrays, since there are no easy functions like the query() function available for pandas dataframes. As a result, for loops are needed to iterate through numpy arrays efficiently."
      ],
      "metadata": {
        "id": "NAdVfRZB1d9J"
      }
    }
  ]
}