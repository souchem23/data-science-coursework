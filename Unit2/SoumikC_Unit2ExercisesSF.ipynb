{
  "nbformat": 4,
  "nbformat_minor": 0,
  "metadata": {
    "colab": {
      "provenance": [],
      "include_colab_link": true
    },
    "kernelspec": {
      "name": "python3",
      "display_name": "Python 3"
    },
    "language_info": {
      "name": "python"
    }
  },
  "cells": [
    {
      "cell_type": "markdown",
      "metadata": {
        "id": "view-in-github",
        "colab_type": "text"
      },
      "source": [
        "<a href=\"https://colab.research.google.com/github/souchem23/data-science-coursework/blob/main/Unit2/SoumikC_Unit2ExercisesSF.ipynb\" target=\"_parent\"><img src=\"https://colab.research.google.com/assets/colab-badge.svg\" alt=\"Open In Colab\"/></a>"
      ]
    },
    {
      "cell_type": "markdown",
      "source": [
        "#Unit 2 Exercises: Bayesian Building Blocks\n",
        "\n",
        "This first set of exercises focuses on conceptual understanding of the three parts of bayesian statistics we'll manipulate the most: the prior, likelihood, and posterior.\n",
        "\n",
        "These vocabulary words will help us categorize and explain all statistical models, even models that don't fit inside the standard bayesian framework."
      ],
      "metadata": {
        "id": "0GANUQSIhV2t"
      }
    },
    {
      "cell_type": "markdown",
      "source": [
        "**Task1**:\n",
        "\n",
        "Why do we make guesses? In other words, what is the benefit of trying to predict something we are uncertain about?"
      ],
      "metadata": {
        "id": "4HnMLojUPtOR"
      }
    },
    {
      "cell_type": "markdown",
      "source": [
        "Making guesses is the first step to making an accurate model that can identify new patterns and trends. In other words, we are trying to apply uncertainty (guesses) on the unceratinty that is present in the real world. We have to make guesses to make estimates and predictions about things that we do not know, so we can gain a better understanding of the world around us! In other words, we should not try to predict things that are already certain as they will not provide a useful insight."
      ],
      "metadata": {
        "id": "mDaA1AeLU5dU"
      }
    },
    {
      "cell_type": "markdown",
      "source": [
        "**Task2**:\n",
        "\n",
        "Is is it possible to make a guess/prediction without making an assumption?\n",
        "\n",
        "If yes, then give an example of such a guess, and state whenever that guess would be useful or not.\n",
        "\n",
        "If no, then briefly justify why we need assumptions to make predictions."
      ],
      "metadata": {
        "id": "fMU4F4ZGQqb9"
      }
    },
    {
      "cell_type": "markdown",
      "source": [
        "No, it is not possible to make a guess/prediction without making an assumption. There has to be an underlying assumption that we make when forming certain predictions. These assumptions, whether we realze it or not, are needed to be used along with logic to form a guess. In order for one to have a prediction or to make a statement, they must have some underlying assumption that informs their guess or intution. Also, in order for a guess to be considered or have a chance of happening, it should be logical and based off certain assumptions."
      ],
      "metadata": {
        "id": "JuBQVSQ0U-cD"
      }
    },
    {
      "cell_type": "markdown",
      "source": [
        "**Task3**:\n",
        "\n",
        "Should we use all the available information we have to make a guess/prediction? Justify your answer."
      ],
      "metadata": {
        "id": "8iIogaaJQEfl"
      }
    },
    {
      "cell_type": "markdown",
      "source": [
        "No, additional data could skew model data and take away from what is accurately trying to be shown. Here is what I mean. Some information that we have may not be useful to our scenario or may take away from the question that is being asked. In the Wembanyama example, we may have available data that describes how the audience supports Wembanyama or how many people attended the game. However, these data points would not be useful in determining whether Wembanyama would make his next shots or not. In fact, more relevant data like the number of times he bounces the basketball may also skew the data as a correlation/causation between the number of times the ball is bounced and shots scored may not exist. This would skew the data and introduce an inaccurate model that came due to too much information."
      ],
      "metadata": {
        "id": "v8zljy-5QXSd"
      }
    },
    {
      "cell_type": "markdown",
      "source": [
        "**Task4**:\n",
        "\n",
        "What is a prior? How are priors related to\n",
        "- context?\n",
        "- assumptions?\n",
        "- predictions?"
      ],
      "metadata": {
        "id": "TYwtd8lPRFbj"
      }
    },
    {
      "cell_type": "markdown",
      "source": [
        "The prior is an assumption that uses context based on logic or personal knowldge about the subject. The assumptions for the prior includes all of the context that the researcher wants to use in the creation of their models. For example, the context can be based off of certain observations or even specific generalizations from the past: Wembanyama's shots in the EuroLeague was the context of the Unit 2 notes. However, this context can even be certain opinions like \"I know that Wembanyama has a nince shooting form and has a betteer form than others so he will find a high free thro percentage and we can represent this in a specific distribtuion.\". This context then informs the assumptions that are made with prior. These priors are both the context and assumptions can be used to make predictions that follow logic. The assumptions and the context, or the assumptions and the previous evidence, inform the prior. the prior are used to make confident predcitions and it is the way to turn our assumptions into predictions. Prior is assumptions turned into logic."
      ],
      "metadata": {
        "id": "d6vRRh3wVE5v"
      }
    },
    {
      "cell_type": "markdown",
      "source": [
        "**Task5**:\n",
        "\n",
        "What is a likelihood? How are likelihoods related to:\n",
        "\n",
        "- context?\n",
        "- assumptions?\n",
        "- predictions?"
      ],
      "metadata": {
        "id": "v6NnzoV_RWo6"
      }
    },
    {
      "cell_type": "markdown",
      "source": [
        "The likelihood is how we process our observations, so it allows us to choose how to interpret our observations. The likelihood refers to what is actually happening and what is about to happen. The prior referred to the past assumptions, but the likelihood is based on what is going to occur in real life. The likelihood refers to the percentage that our final prediction will be correct, especially since it based on real observations. The  likelihood relates to the assumptions because we can choose to include and exclude certain data as a part of the likelihood. For example, in the Wembanyama example, we can choose to make assumptions about the nature of the league. If we assumed that the EuroLeague was similar to the NBA, then we could choose to include data from the EuroLeague into our likelihood. These assumptions are informed by the context. The context that you choose to have about the nature of the EuroLeague and the NBA informs our likelihood and is based on our assumptions. Also, the way that we define our likelihood refers to our context. We can take a variety of perspectives to view the same data, or reality, which is also informed by our context and assumptions. Finally, we can use all of the data that we have gathered to create a distribution that can inform our predictions. Having observations allows one to make predictions that include observed data and evidence."
      ],
      "metadata": {
        "id": "VK5s3vZpVGLc"
      }
    },
    {
      "cell_type": "markdown",
      "source": [
        "**Task6**:\n",
        "\n",
        "What is a posterior? How are posteriors related to:\n",
        "\n",
        "- context?\n",
        "- assumptions?\n",
        "- predictions?"
      ],
      "metadata": {
        "id": "eYSYtG_2Rowf"
      }
    },
    {
      "cell_type": "markdown",
      "source": [
        "The posterior defines what is the actual truth about the world that we should be guessing given all of the context, assumptions, and evidence that we have. In other words, the posterior is the intersection of the likelihood and the prior. It refers to both the posterior and the likelihood occuring at the same time.\n",
        "\n",
        "The posterior relates to assumptions because when making a final prediction, it is based on certain assumptions that we have had to make. We are not otherwise able to make a prediction, or statement, that does not use a certain assumption. In Wembanyama's case, the posterior uses the assumptions and context from his performance in the EuroLeague to inform the prediction. However, it is also important to consider that we can use the context and assumptions from our likelihood to make our final prediction.\n",
        "\n",
        "Our final prediction is, in other words, a statement that is based on all of the data that we have. We cannot confidently, and accurately make this statement without the intersection of our observations and assumptions."
      ],
      "metadata": {
        "id": "T04x1VteVHH1"
      }
    },
    {
      "cell_type": "markdown",
      "source": [
        "**Task7**:\n",
        "\n",
        "Why would anyone want to define a prior and a likelihood in order to make a prediction? In other words, what's the point of using a likelihood and a prior to form a posterior?"
      ],
      "metadata": {
        "id": "CMAm4LqBXYxG"
      }
    },
    {
      "cell_type": "markdown",
      "source": [
        "The prior is the assumptions that we make about a certain problem that includes our biases and past observations. If we were to only make a posterior that was based off of a prior, we would be restricting the scope of our problem. It would require me to make certain assumptions that are true to me, but may not be accurate to what is truly going on. For this reason, we need to stay true to reality by consdering both our assumptions and observations from the likelihood. It is important to have different perspectives on the data and this can't be achieved by only making assumptions."
      ],
      "metadata": {
        "id": "rag62h9DVIDN"
      }
    },
    {
      "cell_type": "markdown",
      "source": [
        "## Bayes' Rule Math\n",
        "\n",
        "The following exrcises will be graded for completion, with no accuracy component. That said, correct answers below will replace mistakes in tasks 1-7.\n",
        "\n"
      ],
      "metadata": {
        "id": "BNrO2k34SGoF"
      }
    },
    {
      "cell_type": "markdown",
      "source": [
        "### Mathematical Framing\n",
        "\n",
        "In this series of exercises, we'll calculate a probability using the full version of Bayes' Rule.\n",
        "\n",
        "The version seen in the notes, $p(θ|y) ∝ p(y|θ)p(θ)$, ignores the normalizing constant found in the full equation: $p(θ|y) = \\frac{p(y|θ)p(θ)}{p(y)}$.\n",
        "\n",
        "As stated in the notes, in practical applications we don't need to worry too much about $p(y)$, AKA the marginal likelihood, AKA the prior predictive density, AKA the normalizing constant. And when we do, we'll approximate like we do everything else.\n",
        "\n",
        "But we these exercises are closer to theoretical abstraction, rather than practicality.\n",
        "\n",
        "So why do them?\n",
        "\n",
        "These exercises will hopefully help you gain additional inuition for probability, and how it behaves.\n",
        "\n",
        "As you work through the exercises, consider $p(y)$, the  prior predictive density, and why using it to divide $p(y|θ)p(θ)$ gurantees we get a probability.\n",
        "\n",
        "Additonaly, wonder about:\n",
        "- the likelihood $p(y|θ)$\n",
        "- the prior $p(θ)$,\n",
        "- why multiplying the likelihood and piror (almost) gives us the posterior $p(θ|y)$."
      ],
      "metadata": {
        "id": "w7KMRJa_TmdF"
      }
    },
    {
      "cell_type": "markdown",
      "source": [
        "###Problem Setting\n",
        "\n",
        "Imagine we have a bag of red and white marbles, identical in every other way. Let's assume there are 4 total marbles, we can't see inside the bag, and when we grab a ball from the bag, we replace it and shake the bag to scramble the balls.\n",
        "\n",
        "Additionally:\n",
        "\n",
        "- we draw three balls in this order: red-white-red. Call these the data, $y$. Remember, we replaced the ball and shook the bag between each draw.\n",
        "- we are interested in finding the true proportion of red balls in the bag, called $θ$"
      ],
      "metadata": {
        "id": "ab7E9RIuj2OX"
      }
    },
    {
      "cell_type": "markdown",
      "source": [
        "**Task8**:\n",
        "\n",
        "Write out all the possible color compositions of the marbless in the bag, before we observed our data $y$.\n",
        "\n",
        "Let each of these possible color compositions be a possible $θ$, or true proportion of red marbles."
      ],
      "metadata": {
        "id": "AmHTGWQQHuAD"
      }
    },
    {
      "cell_type": "markdown",
      "source": [
        "Withoout given our observation y, we know that there are four total marbles in the bag. We do not know if they are red or white, but we know that there are various compositions wihtout our observation.\n",
        "\n",
        "Here are the compositions:\n",
        "RRRR (All red),\n",
        "WWWW (All white),\n",
        "RWWW,\n",
        "RRWW,\n",
        "RRRW,\n",
        "WRRR (repeated),\n",
        "WWRR (repeated),\n",
        "WWWR (repeated)\n",
        "\n",
        "Since we are asked for color compositions, we are trying to combinations:\n",
        "* RRRR (All red)\n",
        "* WWWW (All white)\n",
        "* RWWW\n",
        "* RRWW\n",
        "* RRRW"
      ],
      "metadata": {
        "id": "EkPylHwCVK72"
      }
    },
    {
      "cell_type": "markdown",
      "source": [
        "**Task9**:\n",
        "\n",
        "Which color compositions are possible after seeing the data $y$?"
      ],
      "metadata": {
        "id": "-TELvcnVH8N2"
      }
    },
    {
      "cell_type": "markdown",
      "source": [
        "After our observations, we know that we have two red and two white.\n",
        "Our first composition is RRWW.\n",
        "\n",
        "Now, we need to consider replacement. This means taht we can have 3 reds, 3 whites, or 1 red, and 1 white.\n",
        "RWWW\n",
        "WRRR\n",
        "\n",
        "There are three compositions:\n",
        "\n",
        "*   RRWW\n",
        "*   RWWW\n",
        "*   WRRR"
      ],
      "metadata": {
        "id": "7q6nUOdNMN9Z"
      }
    },
    {
      "cell_type": "markdown",
      "source": [
        "**Task10**:\n",
        "\n",
        "How many ways can you select red-white-red, assuming that there are 2 red marbles and 2 white marbles?"
      ],
      "metadata": {
        "id": "vIjecZm7OVcy"
      }
    },
    {
      "cell_type": "markdown",
      "source": [
        "For this question, we have to assume that each of the red marbles is different.\n",
        "We can represent our situation as the following: R(1),R(2),W(1),W(2).\n",
        "\n",
        "Below are the following ways:\n",
        "\n",
        "*   R(1) W(1) R(1)\n",
        "*   R(1) W(1) R(2)\n",
        "*   R(2) W(1) R(1)\n",
        "*   R(2) W(1) R(2)\n",
        "*   R(1) W(2) R(1)\n",
        "*   R(1) W(2) R(2)\n",
        "*   R(2) W(2) R(1)\n",
        "*   R(2) W(2) R(2)\n",
        "\n",
        "There are 8 ways to choose this.\n",
        "\n",
        "\n",
        "\n",
        "\n"
      ],
      "metadata": {
        "id": "p2vDjMVIXtWR"
      }
    },
    {
      "cell_type": "markdown",
      "source": [
        "**Task11**:\n",
        "\n",
        "How many different ways can you select three balls so that order matters, given that there are 2 red marbles and 2 white marbles?"
      ],
      "metadata": {
        "id": "Bs7tx0pXhUZy"
      }
    },
    {
      "cell_type": "markdown",
      "source": [
        "If order matters, each position has 4 possible options.\n",
        "\n",
        "Thus, for all the positions, the probability is 4(4)(4) which is 64."
      ],
      "metadata": {
        "id": "69ScN4NYh6ks"
      }
    },
    {
      "cell_type": "markdown",
      "source": [
        "**Task12**:\n",
        "\n",
        "What's the probablity you select red-white-red, given that there are 2 red marbles and 2 white marbles?\n",
        "\n",
        "Stated differently, Find the likelihood $p(y|θ)$, where $θ=RRWW$"
      ],
      "metadata": {
        "id": "k87Z69qUg9KV"
      }
    },
    {
      "cell_type": "markdown",
      "source": [
        "The probability of selecting a red is 2/4 which is 1/2.\n",
        "The probability of selecting a white is 2/4 which is 1/2.\n",
        "The probability of sleecting a red (with replacement) is 2/4 which is 1/2.\n",
        "\n",
        "Thus the probability is 1/2(1/2)(1/2) which is 1/8."
      ],
      "metadata": {
        "id": "v5bdqu1nri3Y"
      }
    },
    {
      "cell_type": "markdown",
      "source": [
        "**Task13**:\n",
        "\n",
        "Find:\n",
        "\n",
        "- $p(y|WWWW)$\n",
        "- $p(y|RWWW)$\n",
        "- $p(y|RRWW)$\n",
        "- $p(y|RRRW)$\n",
        "- $p(y|RRRR)$"
      ],
      "metadata": {
        "id": "j6e9WP49sZJh"
      }
    },
    {
      "cell_type": "markdown",
      "source": [
        "1. Not possible since there are not reds in the dataset.\n",
        "2. 1/4 * 3/4 * 1/4 = 3/64.\n",
        "3. 2/4 *2/4 *2/4 = 1/8.\n",
        "4. 3/4 * 1/4 * 3/4 = 9/64\n",
        "5. Not possible since there are no whites in the dataset.\n"
      ],
      "metadata": {
        "id": "NbSC4dj_tf4Y"
      }
    },
    {
      "cell_type": "markdown",
      "source": [
        "**Task14**:\n",
        "\n",
        "Find the probablity of getting red-white-red, $p(y)$"
      ],
      "metadata": {
        "id": "qxSVk_Sjv8Gk"
      }
    },
    {
      "cell_type": "markdown",
      "source": [
        "We can find the probability of red-white-red by considering all of the options. From the previous question, we have five events occuring with the same likelihood. Thus, we can find the average of the percenages.\n",
        "\n",
        "(0+3/64+1/8+9/64+0)/5 = 6.25%."
      ],
      "metadata": {
        "id": "N3PVjOk5wDZT"
      }
    },
    {
      "cell_type": "markdown",
      "source": [
        "**Task15**:\n",
        "\n",
        "After observing a draw of red-white-red, find the probability that there are two red marbles and two white marbles in the bag.\n",
        "\n",
        "In other words, find $p(θ|y)$, where $θ=RRWW$. <sup><sub>Assume there is no prior for this problem; more precisely, $p(θ)=1$ for this problem. </sub></sup>"
      ],
      "metadata": {
        "id": "CYoWtEwxyNB-"
      }
    },
    {
      "cell_type": "markdown",
      "source": [
        "From Task 13, we know that there are only three possibilities that will give us RWR. The probability of getting of RRWW is 1/8.\n",
        "\n",
        "Out of the other possibilities, the answer is 1/8 / (1/8+3/64+9/64). This results in 40%."
      ],
      "metadata": {
        "id": "WxX-o3Uuy9eR"
      }
    },
    {
      "cell_type": "markdown",
      "source": [
        "**Task16**:\n",
        "\n",
        "Story time: The marble factory produces bags of four marbles. They want to make red marbles rare, so that people will get excited about them.  Therefore, for each 1 bag containing four red, they made 2 that contain three red, 3 that contain two red, 4 that contain one red, and 5 that contain zero red.\n",
        "\n",
        "With this new prior information, find $p(θ|y)$, where $θ=RRWW$."
      ],
      "metadata": {
        "id": "VgMdbaKW1o39"
      }
    },
    {
      "cell_type": "markdown",
      "source": [
        "We can use Baye's rule. We know that p(θ|y) = p(y|θ) * p(θ) / p(y).\n",
        "\n",
        "When we solve for the probability, we are left with 44.44%.\n",
        "\n"
      ],
      "metadata": {
        "id": "UMMrUAIs3Dsi"
      }
    },
    {
      "cell_type": "markdown",
      "source": [
        "**Task17**:\n",
        "\n",
        "Write down similarities and differences between this marble example, and the VIctor Wembanyama FT example."
      ],
      "metadata": {
        "id": "ABn_s24K4K0H"
      }
    },
    {
      "cell_type": "markdown",
      "source": [
        "One difference is that the Victor Wembanyama prior was a continuous distribution while the marble example had a prior that was based on discrete numbers and proababilities.\n",
        "\n",
        "One similarlity is that both of these examples use a prior in order to create a probability for a predictions."
      ],
      "metadata": {
        "id": "CAmT3Bd34fhc"
      }
    }
  ]
}