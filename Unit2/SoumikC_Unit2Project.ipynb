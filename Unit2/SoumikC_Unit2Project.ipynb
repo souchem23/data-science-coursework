{
  "nbformat": 4,
  "nbformat_minor": 0,
  "metadata": {
    "colab": {
      "provenance": [],
      "authorship_tag": "ABX9TyPb+BeDNdzrxW52sovfmt3K",
      "include_colab_link": true
    },
    "kernelspec": {
      "name": "python3",
      "display_name": "Python 3"
    },
    "language_info": {
      "name": "python"
    }
  },
  "cells": [
    {
      "cell_type": "markdown",
      "metadata": {
        "id": "view-in-github",
        "colab_type": "text"
      },
      "source": [
        "<a href=\"https://colab.research.google.com/github/souchem23/data-science-coursework/blob/main/Unit2/SoumikC_Unit2Project.ipynb\" target=\"_parent\"><img src=\"https://colab.research.google.com/assets/colab-badge.svg\" alt=\"Open In Colab\"/></a>"
      ]
    },
    {
      "cell_type": "markdown",
      "source": [
        "## Preparation"
      ],
      "metadata": {
        "id": "onFC4hR-d77o"
      }
    },
    {
      "cell_type": "markdown",
      "source": [
        "Hello! Welcome to my project!\n",
        "\n",
        "At a high level, I created a prediction model for determining the probability for a network attack to be of a certain payload size or not. This project is extremely useful as it can create a model to forecast the behavior of certain cyber attacks, which can be used to create more effective counter-measures.\n",
        "\n",
        "Here are some buzz words to get you started: Cybersecurity! Network attacks! DDOS and Intrusion attacks!\n",
        "\n",
        "Note: For this writeup, \"cyber attacks\" and \"network attacks\" are used interchangeably.\n",
        "\n",
        "Heads up! A more detailed form of each section is present near the end of the writeup.\n",
        "\n"
      ],
      "metadata": {
        "id": "8CArcLM_myfJ"
      }
    },
    {
      "cell_type": "markdown",
      "source": [
        "Start by importing packages: preliz, numpy, arviz, pymc, pandas.\n",
        "\n",
        "---\n",
        "\n"
      ],
      "metadata": {
        "id": "35HXCaniZ_Q9"
      }
    },
    {
      "cell_type": "code",
      "source": [
        "# Installing packages\n",
        "!pip install preliz\n",
        "import preliz as pz\n",
        "\n",
        "import numpy as np\n",
        "import pymc as pm\n",
        "import arviz as az\n",
        "import pandas as pd"
      ],
      "metadata": {
        "colab": {
          "base_uri": "https://localhost:8080/"
        },
        "collapsed": true,
        "id": "9iHsKXzGaK8P",
        "outputId": "ad85603d-d52e-4b6a-a643-2936aed18c30"
      },
      "execution_count": 7,
      "outputs": [
        {
          "output_type": "stream",
          "name": "stdout",
          "text": [
            "Requirement already satisfied: preliz in /usr/local/lib/python3.10/dist-packages (0.9.1)\n",
            "Requirement already satisfied: arviz in /usr/local/lib/python3.10/dist-packages (from preliz) (0.18.0)\n",
            "Requirement already satisfied: matplotlib>=3.5 in /usr/local/lib/python3.10/dist-packages (from preliz) (3.7.1)\n",
            "Requirement already satisfied: numba>=0.59 in /usr/local/lib/python3.10/dist-packages (from preliz) (0.60.0)\n",
            "Requirement already satisfied: numpy>=1.22 in /usr/local/lib/python3.10/dist-packages (from preliz) (1.26.4)\n",
            "Requirement already satisfied: scipy<1.13,>=1.9.1 in /usr/local/lib/python3.10/dist-packages (from preliz) (1.12.0)\n",
            "Requirement already satisfied: contourpy>=1.0.1 in /usr/local/lib/python3.10/dist-packages (from matplotlib>=3.5->preliz) (1.3.0)\n",
            "Requirement already satisfied: cycler>=0.10 in /usr/local/lib/python3.10/dist-packages (from matplotlib>=3.5->preliz) (0.12.1)\n",
            "Requirement already satisfied: fonttools>=4.22.0 in /usr/local/lib/python3.10/dist-packages (from matplotlib>=3.5->preliz) (4.53.1)\n",
            "Requirement already satisfied: kiwisolver>=1.0.1 in /usr/local/lib/python3.10/dist-packages (from matplotlib>=3.5->preliz) (1.4.7)\n",
            "Requirement already satisfied: packaging>=20.0 in /usr/local/lib/python3.10/dist-packages (from matplotlib>=3.5->preliz) (24.1)\n",
            "Requirement already satisfied: pillow>=6.2.0 in /usr/local/lib/python3.10/dist-packages (from matplotlib>=3.5->preliz) (9.4.0)\n",
            "Requirement already satisfied: pyparsing>=2.3.1 in /usr/local/lib/python3.10/dist-packages (from matplotlib>=3.5->preliz) (3.1.4)\n",
            "Requirement already satisfied: python-dateutil>=2.7 in /usr/local/lib/python3.10/dist-packages (from matplotlib>=3.5->preliz) (2.8.2)\n",
            "Requirement already satisfied: llvmlite<0.44,>=0.43.0dev0 in /usr/local/lib/python3.10/dist-packages (from numba>=0.59->preliz) (0.43.0)\n",
            "Requirement already satisfied: setuptools>=60.0.0 in /usr/local/lib/python3.10/dist-packages (from arviz->preliz) (71.0.4)\n",
            "Requirement already satisfied: pandas>=1.5.0 in /usr/local/lib/python3.10/dist-packages (from arviz->preliz) (2.1.4)\n",
            "Requirement already satisfied: dm-tree>=0.1.8 in /usr/local/lib/python3.10/dist-packages (from arviz->preliz) (0.1.8)\n",
            "Requirement already satisfied: xarray>=2022.6.0 in /usr/local/lib/python3.10/dist-packages (from arviz->preliz) (2024.6.0)\n",
            "Requirement already satisfied: h5netcdf>=1.0.2 in /usr/local/lib/python3.10/dist-packages (from arviz->preliz) (1.3.0)\n",
            "Requirement already satisfied: typing-extensions>=4.1.0 in /usr/local/lib/python3.10/dist-packages (from arviz->preliz) (4.12.2)\n",
            "Requirement already satisfied: xarray-einstats>=0.3 in /usr/local/lib/python3.10/dist-packages (from arviz->preliz) (0.7.0)\n",
            "Requirement already satisfied: h5py in /usr/local/lib/python3.10/dist-packages (from h5netcdf>=1.0.2->arviz->preliz) (3.11.0)\n",
            "Requirement already satisfied: pytz>=2020.1 in /usr/local/lib/python3.10/dist-packages (from pandas>=1.5.0->arviz->preliz) (2024.1)\n",
            "Requirement already satisfied: tzdata>=2022.1 in /usr/local/lib/python3.10/dist-packages (from pandas>=1.5.0->arviz->preliz) (2024.1)\n",
            "Requirement already satisfied: six>=1.5 in /usr/local/lib/python3.10/dist-packages (from python-dateutil>=2.7->matplotlib>=3.5->preliz) (1.16.0)\n"
          ]
        }
      ]
    },
    {
      "cell_type": "markdown",
      "source": [
        "## Introduction (Context)"
      ],
      "metadata": {
        "id": "9RiXq92fuTvG"
      }
    },
    {
      "cell_type": "markdown",
      "source": [
        "### Motivation\n",
        "\n",
        "*   DDOS attacks and other cyber security attacks have grown in prevalence in our modern society.\n",
        "*   Contributed to the loss of infrastructure, medical records, and government documents.\n",
        "\n",
        "###Relevance\n",
        "\n",
        "* According to [a10networks.com](https://www.a10networks.com/blog/5-most-famous-ddos-attacks/://), in November 2021, there was a large DDOS attack against Azure, a Windows cloud computing service.\n",
        "* 3.45 Terabytes were sent per second (large packet size) and 340 million packets sent per second.\n",
        "\n",
        "###How is it Measurable?\n",
        "* Attackers make specific choices about the behavior of their network attack.\n",
        "* One of these features is the amount of data sent by packet across the network.\n",
        "* Dire need to detect the probability of certain features occuring more frequently\n",
        "* I want to analyze the likelihood of an attacker using above average packet sizes for volumetric attacks.\n",
        "* Confident that most DDOS and Intrusion attacks will have packet sizes with greater than 500 Megabytes because more data increases network downtime."
      ],
      "metadata": {
        "id": "7N65PegTuUTs"
      }
    },
    {
      "cell_type": "markdown",
      "source": [
        "## Prior (Network Attack Payloads)"
      ],
      "metadata": {
        "id": "C6v9YWWApymz"
      }
    },
    {
      "cell_type": "markdown",
      "source": [
        "Below are the assumptions made for this model based on statistical data and general knowledge about the topic.\n",
        "\n",
        "1.   Intrusion attacks and DDOS attacks will grow in severity and occurence. This assumption is based on the \"[Cisco Annual Internet Report](https://www.cisco.com/c/en/us/solutions/collateral/executive-perspectives/annual-internet-report/white-paper-c11-741490.html)\", which displays an increasing trend in cyber attacks from 2018 (7.9 million) to 2023 (15.4 million).\n",
        "2.   Based on my prior knowledge, I am assuming that a majority of these cyber attacks will be based on TCP. Most network attacks are based on TCP. This ensured data transmission and thus requires more data (informing my confident prior). This is also justified by [Cloudfare](https://blog.cloudflare.com/ddos-threat-report-for-2024-q2/#:~:text=Network%2Dlayer%20DDoS%20attack%20vectors&text=SYN%20floods%20came%20in%20second,all%20network%2Dlayer%20DDoS%20attacks.://): 38% of network layer DDOS attacks are based on the TCP protocol.\n",
        "3. The attacker has the freedom to chose either a large or small payload size for the network attacks. Thus, we can assume that each attack is indpendent and there is a likely chance of each situation occuring.\n",
        "4. According to [Cloudfare](https://blog.cloudflare.com/ddos-attacks-have-evolved-and-so-should-your-ddos-protection/), in 2020, 60% of volumetric attacks were under 500 Mb. However, due to the recent statistics that portray an increasing number of network attacks, I assume that around 70% of the volumetric attacks will have packet sizes over 500 Mb.\n",
        "\n",
        "For this project, we care about the payload size and the attack itself. I am fairly confident in my predictions, especially since Cloudfare has shown upwards trends; I believe that a beta value of 30 and an alpha value of 70 will accurately reflect my confidence, especially with my thousands of data points."
      ],
      "metadata": {
        "id": "bfGWyfUnp6Ki"
      }
    },
    {
      "cell_type": "code",
      "source": [
        "# Beta distribution for the prior\n",
        "pz.Beta(alpha=70,beta=30).plot_pdf()"
      ],
      "metadata": {
        "id": "cmfmRSzceHeL",
        "colab": {
          "base_uri": "https://localhost:8080/",
          "height": 448
        },
        "outputId": "781d6337-2759-4d58-99a7-86f553527f6f"
      },
      "execution_count": 4,
      "outputs": [
        {
          "output_type": "execute_result",
          "data": {
            "text/plain": [
              "<Axes: >"
            ]
          },
          "metadata": {},
          "execution_count": 4
        },
        {
          "output_type": "display_data",
          "data": {
            "text/plain": [
              "<Figure size 640x480 with 1 Axes>"
            ],
            "image/png": "[encoded data removed]"
          },
          "metadata": {}
        }
      ]
    },
    {
      "cell_type": "code",
      "source": [
        "network_prior = pz.Beta(alpha=70,beta=30)\n",
        "\n",
        "# Calculating mode of prior\n",
        "network_prior_mode = (network_prior.alpha - 1)/(network_prior.alpha + network_prior.beta - 2)\n",
        "\n",
        "# Mean, median, and mode of prior to see different interpretations of my prior\n",
        "network_prior.mean(), network_prior.median(), network_prior_mode"
      ],
      "metadata": {
        "colab": {
          "base_uri": "https://localhost:8080/"
        },
        "id": "UxjtqBZ_vyBv",
        "outputId": "a1c1378b-916b-4603-9854-2c6d8ef7b1bb"
      },
      "execution_count": 6,
      "outputs": [
        {
          "output_type": "execute_result",
          "data": {
            "text/plain": [
              "(0.7, 0.7013380272307655, 0.7040816326530612)"
            ]
          },
          "metadata": {},
          "execution_count": 6
        }
      ]
    },
    {
      "cell_type": "markdown",
      "source": [
        "## Likelihood (Network Attacks Dataset Interpretation)"
      ],
      "metadata": {
        "id": "_fNSXXYq61lq"
      }
    },
    {
      "cell_type": "markdown",
      "source": [
        "We have a distribution for our prior knowledge. It is important to keep in mind that this data does not include the actual observations from thousands of network data attacks. In order to make more accurate predictions, we will have to take into account observations from real world data. Our real world data and observations will inform our likelihood.\n",
        "\n",
        "* Our dataset is going to be coming from \"Cyber Security Attacks\" by Uma Venugopal on Kaggle.\n",
        "* This data has certain characteristics which will not be useful for our analysis.\n",
        "*Our data for this project will only involve the network attack size.\n",
        "\n",
        "In the subsequent code block, the dataset will be processed to become a form that is useful for us. We will only filter if the AttackType is an Intrusion or DDOS (volumetric attack) and analyze the PacketLength for these entries."
      ],
      "metadata": {
        "id": "ji1h3yQs67d6"
      }
    },
    {
      "cell_type": "code",
      "source": [
        "# read in the network dataset\n",
        "url_network = 'https://raw.githubusercontent.com/souchem23/data-science-coursework/main/cybersecurity_attacks.csv'\n",
        "#feed that string into the pandas read csv function\n",
        "network = pd.read_csv(url_network)"
      ],
      "metadata": {
        "id": "DzbYBrc961Yf"
      },
      "execution_count": 56,
      "outputs": []
    },
    {
      "cell_type": "code",
      "source": [
        "# Query only for Intrustion and DDOS attacks\n",
        "network = network.query('AttackType == \"Intrusion\" or AttackType == \"DDOS\"')"
      ],
      "metadata": {
        "id": "VbUUThWb603Z"
      },
      "execution_count": 57,
      "outputs": []
    },
    {
      "cell_type": "code",
      "source": [
        "network"
      ],
      "metadata": {
        "colab": {
          "base_uri": "https://localhost:8080/",
          "height": 1000
        },
        "id": "Cv0tb49tG8Vj",
        "outputId": "3195c830-40c9-4e26-afda-addab997a9fb"
      },
      "execution_count": 58,
      "outputs": [
        {
          "output_type": "execute_result",
          "data": {
            "text/plain": [
              "              Timestamp Source IP Address Destination IP Address  Source Port  \\\n",
              "1        10/5/2023 8:40     175.213.52.16           71.52.107.88        45548   \n",
              "2       8/31/2020 21:19      21.219.2.221          93.47.147.100         1176   \n",
              "3        7/21/2022 3:34   211.180.180.240         214.137.121.86        21812   \n",
              "4        6/21/2022 2:57      20.222.1.137         71.237.182.185        29140   \n",
              "14      1/29/2022 19:21   117.125.149.125        219.227.119.127        20423   \n",
              "...                 ...               ...                    ...          ...   \n",
              "39974   1/24/2021 19:58       14.20.11.46           4.159.20.215        64984   \n",
              "39979    8/13/2022 3:01       3.77.168.85           39.84.59.206        44369   \n",
              "39984     4/7/2022 3:41    67.149.133.123         73.128.201.233         3435   \n",
              "39985   1/14/2022 18:33    153.41.124.179          65.176.68.136        14476   \n",
              "39989  12/16/2022 11:16      93.22.132.50         135.109.67.206        39412   \n",
              "\n",
              "       Destination Port Protocol  PacketLength Packet Type Traffic Type  \\\n",
              "1                 26000      TCP          1500     Control          DNS   \n",
              "2                 46740     ICMP          1500     Control         HTTP   \n",
              "3                 41700      UDP          1500     Control          DNS   \n",
              "4                 22576      TCP          1500        Data          DNS   \n",
              "14                14549      UDP          1500     Control         HTTP   \n",
              "...                 ...      ...           ...         ...          ...   \n",
              "39974             19416      TCP            64     Control          FTP   \n",
              "39979             36496      UDP            64        Data          FTP   \n",
              "39984             50888      UDP            64        Data          DNS   \n",
              "39985             49301      UDP            64        Data          DNS   \n",
              "39989             46865      UDP            64        Data         HTTP   \n",
              "\n",
              "                                            Payload Data  ... Action Taken  \\\n",
              "1      Similique perferendis iure aspernatur minima n...  ...      Blocked   \n",
              "2      Vitae ipsa doloribus omnis quas dolores. Asper...  ...       Logged   \n",
              "3      Odit quae aspernatur fugit alias a sunt. Velit...  ...       Logged   \n",
              "4      Nesciunt magnam voluptates quae. Impedit elige...  ...       Logged   \n",
              "14     Veniam quibusdam dolor iste ducimus quidem ea ...  ...      Blocked   \n",
              "...                                                  ...  ...          ...   \n",
              "39974  Est aliquam adipisci. Sequi laborum beatae rer...  ...      Ignored   \n",
              "39979  Fugiat magni ut tempore a. Mollitia adipisci d...  ...      Ignored   \n",
              "39984  Maxime illo maxime eaque necessitatibus quos r...  ...       Logged   \n",
              "39985  Velit eaque tenetur possimus quos adipisci qui...  ...      Blocked   \n",
              "39989  Placeat neque eligendi soluta vero impedit ape...  ...      Ignored   \n",
              "\n",
              "       Severity Level      User Information  \\\n",
              "1              Medium  Mohanlal Chakraborty   \n",
              "2                High          Gokul Badami   \n",
              "3              Medium         Nitara Sahota   \n",
              "4                 Low   Aarna Krishnamurthy   \n",
              "14             Medium          Kiaan Thaman   \n",
              "...               ...                   ...   \n",
              "39974          Medium       Aarav Deshpande   \n",
              "39979             Low         Kaira Jhaveri   \n",
              "39984            High          Dhanuk Magar   \n",
              "39985            High          Nirvi Khosla   \n",
              "39989             Low           Saanvi Buch   \n",
              "\n",
              "                                      Device Information Network Segment  \\\n",
              "1      Mozilla/5.0 (X11; Linux i686) AppleWebKit/532....       Segment A   \n",
              "2      Mozilla/5.0 (compatible; MSIE 5.0; Windows CE;...       Segment B   \n",
              "3      Opera/8.42.(X11; Linux x86_64; pa-IN) Presto/2...       Segment B   \n",
              "4      Mozilla/5.0 (Macintosh; Intel Mac OS X 10_10_3...       Segment C   \n",
              "14     Opera/9.31.(Windows NT 6.0; oc-FR) Presto/2.9....       Segment C   \n",
              "...                                                  ...             ...   \n",
              "39974  Mozilla/5.0 (Windows NT 6.1) AppleWebKit/534.0...       Segment C   \n",
              "39979  Mozilla/5.0 (Windows; U; Windows NT 6.0) Apple...       Segment C   \n",
              "39984  Mozilla/5.0 (Macintosh; Intel Mac OS X 10_7_3)...       Segment A   \n",
              "39985  Mozilla/5.0 (compatible; MSIE 8.0; Windows 98;...       Segment B   \n",
              "39989  Mozilla/5.0 (X11; Linux i686; rv:1.9.6.20) Gec...       Segment C   \n",
              "\n",
              "               Geo-location Data Proxy Information Firewall Logs  \\\n",
              "1            Katihar, Tamil Nadu   197.151.152.237      Log Data   \n",
              "2      Thanjavur, Andhra Pradesh    181.255.225.81           NaN   \n",
              "3              Bathinda, Manipur     33.122.176.12           NaN   \n",
              "4                    Mumbai, Goa               NaN           NaN   \n",
              "14            Jalna, West Bengal               NaN           NaN   \n",
              "...                          ...               ...           ...   \n",
              "39974          Aizawl, Karnataka     23.239.156.83      Log Data   \n",
              "39979      Berhampore, Karnataka     120.236.18.22      Log Data   \n",
              "39984      Bareilly, Uttarakhand               NaN      Log Data   \n",
              "39985      Erode, Madhya Pradesh               NaN           NaN   \n",
              "39989   Jabalpur, Madhya Pradesh               NaN      Log Data   \n",
              "\n",
              "      IDS/IPS Alerts Log Source  \n",
              "1                NaN   Firewall  \n",
              "2                NaN     Server  \n",
              "3         Alert Data     Server  \n",
              "4                NaN     Server  \n",
              "14        Alert Data   Firewall  \n",
              "...              ...        ...  \n",
              "39974            NaN     Server  \n",
              "39979            NaN   Firewall  \n",
              "39984            NaN     Server  \n",
              "39985     Alert Data   Firewall  \n",
              "39989     Alert Data   Firewall  \n",
              "\n",
              "[13265 rows x 25 columns]"
            ],
            "text/html": [
              "\n",
              "  <div id=\"df-2c940088-307f-4805-987f-38eed09ed21b\" class=\"colab-df-container\">\n",
              "    <div>\n",
              "<style scoped>\n",
              "    .dataframe tbody tr th:only-of-type {\n",
              "        vertical-align: middle;\n",
              "    }\n",
              "\n",
              "    .dataframe tbody tr th {\n",
              "        vertical-align: top;\n",
              "    }\n",
              "\n",
              "    .dataframe thead th {\n",
              "        text-align: right;\n",
              "    }\n",
              "</style>\n",
              "<table border=\"1\" class=\"dataframe\">\n",
              "  <thead>\n",
              "    <tr style=\"text-align: right;\">\n",
              "      <th></th>\n",
              "      <th>Timestamp</th>\n",
              "      <th>Source IP Address</th>\n",
              "      <th>Destination IP Address</th>\n",
              "      <th>Source Port</th>\n",
              "      <th>Destination Port</th>\n",
              "      <th>Protocol</th>\n",
              "      <th>PacketLength</th>\n",
              "      <th>Packet Type</th>\n",
              "      <th>Traffic Type</th>\n",
              "      <th>Payload Data</th>\n",
              "      <th>...</th>\n",
              "      <th>Action Taken</th>\n",
              "      <th>Severity Level</th>\n",
              "      <th>User Information</th>\n",
              "      <th>Device Information</th>\n",
              "      <th>Network Segment</th>\n",
              "      <th>Geo-location Data</th>\n",
              "      <th>Proxy Information</th>\n",
              "      <th>Firewall Logs</th>\n",
              "      <th>IDS/IPS Alerts</th>\n",
              "      <th>Log Source</th>\n",
              "    </tr>\n",
              "  </thead>\n",
              "  <tbody>\n",
              "    <tr>\n",
              "      <th>1</th>\n",
              "      <td>10/5/2023 8:40</td>\n",
              "      <td>175.213.52.16</td>\n",
              "      <td>71.52.107.88</td>\n",
              "      <td>45548</td>\n",
              "      <td>26000</td>\n",
              "      <td>TCP</td>\n",
              "      <td>1500</td>\n",
              "      <td>Control</td>\n",
              "      <td>DNS</td>\n",
              "      <td>Similique perferendis iure aspernatur minima n...</td>\n",
              "      <td>...</td>\n",
              "      <td>Blocked</td>\n",
              "      <td>Medium</td>\n",
              "      <td>Mohanlal Chakraborty</td>\n",
              "      <td>Mozilla/5.0 (X11; Linux i686) AppleWebKit/532....</td>\n",
              "      <td>Segment A</td>\n",
              "      <td>Katihar, Tamil Nadu</td>\n",
              "      <td>197.151.152.237</td>\n",
              "      <td>Log Data</td>\n",
              "      <td>NaN</td>\n",
              "      <td>Firewall</td>\n",
              "    </tr>\n",
              "    <tr>\n",
              "      <th>2</th>\n",
              "      <td>8/31/2020 21:19</td>\n",
              "      <td>21.219.2.221</td>\n",
              "      <td>93.47.147.100</td>\n",
              "      <td>1176</td>\n",
              "      <td>46740</td>\n",
              "      <td>ICMP</td>\n",
              "      <td>1500</td>\n",
              "      <td>Control</td>\n",
              "      <td>HTTP</td>\n",
              "      <td>Vitae ipsa doloribus omnis quas dolores. Asper...</td>\n",
              "      <td>...</td>\n",
              "      <td>Logged</td>\n",
              "      <td>High</td>\n",
              "      <td>Gokul Badami</td>\n",
              "      <td>Mozilla/5.0 (compatible; MSIE 5.0; Windows CE;...</td>\n",
              "      <td>Segment B</td>\n",
              "      <td>Thanjavur, Andhra Pradesh</td>\n",
              "      <td>181.255.225.81</td>\n",
              "      <td>NaN</td>\n",
              "      <td>NaN</td>\n",
              "      <td>Server</td>\n",
              "    </tr>\n",
              "    <tr>\n",
              "      <th>3</th>\n",
              "      <td>7/21/2022 3:34</td>\n",
              "      <td>211.180.180.240</td>\n",
              "      <td>214.137.121.86</td>\n",
              "      <td>21812</td>\n",
              "      <td>41700</td>\n",
              "      <td>UDP</td>\n",
              "      <td>1500</td>\n",
              "      <td>Control</td>\n",
              "      <td>DNS</td>\n",
              "      <td>Odit quae aspernatur fugit alias a sunt. Velit...</td>\n",
              "      <td>...</td>\n",
              "      <td>Logged</td>\n",
              "      <td>Medium</td>\n",
              "      <td>Nitara Sahota</td>\n",
              "      <td>Opera/8.42.(X11; Linux x86_64; pa-IN) Presto/2...</td>\n",
              "      <td>Segment B</td>\n",
              "      <td>Bathinda, Manipur</td>\n",
              "      <td>33.122.176.12</td>\n",
              "      <td>NaN</td>\n",
              "      <td>Alert Data</td>\n",
              "      <td>Server</td>\n",
              "    </tr>\n",
              "    <tr>\n",
              "      <th>4</th>\n",
              "      <td>6/21/2022 2:57</td>\n",
              "      <td>20.222.1.137</td>\n",
              "      <td>71.237.182.185</td>\n",
              "      <td>29140</td>\n",
              "      <td>22576</td>\n",
              "      <td>TCP</td>\n",
              "      <td>1500</td>\n",
              "      <td>Data</td>\n",
              "      <td>DNS</td>\n",
              "      <td>Nesciunt magnam voluptates quae. Impedit elige...</td>\n",
              "      <td>...</td>\n",
              "      <td>Logged</td>\n",
              "      <td>Low</td>\n",
              "      <td>Aarna Krishnamurthy</td>\n",
              "      <td>Mozilla/5.0 (Macintosh; Intel Mac OS X 10_10_3...</td>\n",
              "      <td>Segment C</td>\n",
              "      <td>Mumbai, Goa</td>\n",
              "      <td>NaN</td>\n",
              "      <td>NaN</td>\n",
              "      <td>NaN</td>\n",
              "      <td>Server</td>\n",
              "    </tr>\n",
              "    <tr>\n",
              "      <th>14</th>\n",
              "      <td>1/29/2022 19:21</td>\n",
              "      <td>117.125.149.125</td>\n",
              "      <td>219.227.119.127</td>\n",
              "      <td>20423</td>\n",
              "      <td>14549</td>\n",
              "      <td>UDP</td>\n",
              "      <td>1500</td>\n",
              "      <td>Control</td>\n",
              "      <td>HTTP</td>\n",
              "      <td>Veniam quibusdam dolor iste ducimus quidem ea ...</td>\n",
              "      <td>...</td>\n",
              "      <td>Blocked</td>\n",
              "      <td>Medium</td>\n",
              "      <td>Kiaan Thaman</td>\n",
              "      <td>Opera/9.31.(Windows NT 6.0; oc-FR) Presto/2.9....</td>\n",
              "      <td>Segment C</td>\n",
              "      <td>Jalna, West Bengal</td>\n",
              "      <td>NaN</td>\n",
              "      <td>NaN</td>\n",
              "      <td>Alert Data</td>\n",
              "      <td>Firewall</td>\n",
              "    </tr>\n",
              "    <tr>\n",
              "      <th>...</th>\n",
              "      <td>...</td>\n",
              "      <td>...</td>\n",
              "      <td>...</td>\n",
              "      <td>...</td>\n",
              "      <td>...</td>\n",
              "      <td>...</td>\n",
              "      <td>...</td>\n",
              "      <td>...</td>\n",
              "      <td>...</td>\n",
              "      <td>...</td>\n",
              "      <td>...</td>\n",
              "      <td>...</td>\n",
              "      <td>...</td>\n",
              "      <td>...</td>\n",
              "      <td>...</td>\n",
              "      <td>...</td>\n",
              "      <td>...</td>\n",
              "      <td>...</td>\n",
              "      <td>...</td>\n",
              "      <td>...</td>\n",
              "      <td>...</td>\n",
              "    </tr>\n",
              "    <tr>\n",
              "      <th>39974</th>\n",
              "      <td>1/24/2021 19:58</td>\n",
              "      <td>14.20.11.46</td>\n",
              "      <td>4.159.20.215</td>\n",
              "      <td>64984</td>\n",
              "      <td>19416</td>\n",
              "      <td>TCP</td>\n",
              "      <td>64</td>\n",
              "      <td>Control</td>\n",
              "      <td>FTP</td>\n",
              "      <td>Est aliquam adipisci. Sequi laborum beatae rer...</td>\n",
              "      <td>...</td>\n",
              "      <td>Ignored</td>\n",
              "      <td>Medium</td>\n",
              "      <td>Aarav Deshpande</td>\n",
              "      <td>Mozilla/5.0 (Windows NT 6.1) AppleWebKit/534.0...</td>\n",
              "      <td>Segment C</td>\n",
              "      <td>Aizawl, Karnataka</td>\n",
              "      <td>23.239.156.83</td>\n",
              "      <td>Log Data</td>\n",
              "      <td>NaN</td>\n",
              "      <td>Server</td>\n",
              "    </tr>\n",
              "    <tr>\n",
              "      <th>39979</th>\n",
              "      <td>8/13/2022 3:01</td>\n",
              "      <td>3.77.168.85</td>\n",
              "      <td>39.84.59.206</td>\n",
              "      <td>44369</td>\n",
              "      <td>36496</td>\n",
              "      <td>UDP</td>\n",
              "      <td>64</td>\n",
              "      <td>Data</td>\n",
              "      <td>FTP</td>\n",
              "      <td>Fugiat magni ut tempore a. Mollitia adipisci d...</td>\n",
              "      <td>...</td>\n",
              "      <td>Ignored</td>\n",
              "      <td>Low</td>\n",
              "      <td>Kaira Jhaveri</td>\n",
              "      <td>Mozilla/5.0 (Windows; U; Windows NT 6.0) Apple...</td>\n",
              "      <td>Segment C</td>\n",
              "      <td>Berhampore, Karnataka</td>\n",
              "      <td>120.236.18.22</td>\n",
              "      <td>Log Data</td>\n",
              "      <td>NaN</td>\n",
              "      <td>Firewall</td>\n",
              "    </tr>\n",
              "    <tr>\n",
              "      <th>39984</th>\n",
              "      <td>4/7/2022 3:41</td>\n",
              "      <td>67.149.133.123</td>\n",
              "      <td>73.128.201.233</td>\n",
              "      <td>3435</td>\n",
              "      <td>50888</td>\n",
              "      <td>UDP</td>\n",
              "      <td>64</td>\n",
              "      <td>Data</td>\n",
              "      <td>DNS</td>\n",
              "      <td>Maxime illo maxime eaque necessitatibus quos r...</td>\n",
              "      <td>...</td>\n",
              "      <td>Logged</td>\n",
              "      <td>High</td>\n",
              "      <td>Dhanuk Magar</td>\n",
              "      <td>Mozilla/5.0 (Macintosh; Intel Mac OS X 10_7_3)...</td>\n",
              "      <td>Segment A</td>\n",
              "      <td>Bareilly, Uttarakhand</td>\n",
              "      <td>NaN</td>\n",
              "      <td>Log Data</td>\n",
              "      <td>NaN</td>\n",
              "      <td>Server</td>\n",
              "    </tr>\n",
              "    <tr>\n",
              "      <th>39985</th>\n",
              "      <td>1/14/2022 18:33</td>\n",
              "      <td>153.41.124.179</td>\n",
              "      <td>65.176.68.136</td>\n",
              "      <td>14476</td>\n",
              "      <td>49301</td>\n",
              "      <td>UDP</td>\n",
              "      <td>64</td>\n",
              "      <td>Data</td>\n",
              "      <td>DNS</td>\n",
              "      <td>Velit eaque tenetur possimus quos adipisci qui...</td>\n",
              "      <td>...</td>\n",
              "      <td>Blocked</td>\n",
              "      <td>High</td>\n",
              "      <td>Nirvi Khosla</td>\n",
              "      <td>Mozilla/5.0 (compatible; MSIE 8.0; Windows 98;...</td>\n",
              "      <td>Segment B</td>\n",
              "      <td>Erode, Madhya Pradesh</td>\n",
              "      <td>NaN</td>\n",
              "      <td>NaN</td>\n",
              "      <td>Alert Data</td>\n",
              "      <td>Firewall</td>\n",
              "    </tr>\n",
              "    <tr>\n",
              "      <th>39989</th>\n",
              "      <td>12/16/2022 11:16</td>\n",
              "      <td>93.22.132.50</td>\n",
              "      <td>135.109.67.206</td>\n",
              "      <td>39412</td>\n",
              "      <td>46865</td>\n",
              "      <td>UDP</td>\n",
              "      <td>64</td>\n",
              "      <td>Data</td>\n",
              "      <td>HTTP</td>\n",
              "      <td>Placeat neque eligendi soluta vero impedit ape...</td>\n",
              "      <td>...</td>\n",
              "      <td>Ignored</td>\n",
              "      <td>Low</td>\n",
              "      <td>Saanvi Buch</td>\n",
              "      <td>Mozilla/5.0 (X11; Linux i686; rv:1.9.6.20) Gec...</td>\n",
              "      <td>Segment C</td>\n",
              "      <td>Jabalpur, Madhya Pradesh</td>\n",
              "      <td>NaN</td>\n",
              "      <td>Log Data</td>\n",
              "      <td>Alert Data</td>\n",
              "      <td>Firewall</td>\n",
              "    </tr>\n",
              "  </tbody>\n",
              "</table>\n",
              "<p>13265 rows × 25 columns</p>\n",
              "</div>\n",
              "    <div class=\"colab-df-buttons\">\n",
              "\n",
              "  <div class=\"colab-df-container\">\n",
              "    <button class=\"colab-df-convert\" onclick=\"convertToInteractive('df-2c940088-307f-4805-987f-38eed09ed21b')\"\n",
              "            title=\"Convert this dataframe to an interactive table.\"\n",
              "            style=\"display:none;\">\n",
              "\n",
              "  <svg xmlns=\"http://www.w3.org/2000/svg\" height=\"24px\" viewBox=\"0 -960 960 960\">\n",
              "    <path d=\"M120-120v-720h720v720H120Zm60-500h600v-160H180v160Zm220 220h160v-160H400v160Zm0 220h160v-160H400v160ZM180-400h160v-160H180v160Zm440 0h160v-160H620v160ZM180-180h160v-160H180v160Zm440 0h160v-160H620v160Z\"/>\n",
              "  </svg>\n",
              "    </button>\n",
              "\n",
              "  <style>\n",
              "    .colab-df-container {\n",
              "      display:flex;\n",
              "      gap: 12px;\n",
              "    }\n",
              "\n",
              "    .colab-df-convert {\n",
              "      background-color: #E8F0FE;\n",
              "      border: none;\n",
              "      border-radius: 50%;\n",
              "      cursor: pointer;\n",
              "      display: none;\n",
              "      fill: #1967D2;\n",
              "      height: 32px;\n",
              "      padding: 0 0 0 0;\n",
              "      width: 32px;\n",
              "    }\n",
              "\n",
              "    .colab-df-convert:hover {\n",
              "      background-color: #E2EBFA;\n",
              "      box-shadow: 0px 1px 2px rgba(60, 64, 67, 0.3), 0px 1px 3px 1px rgba(60, 64, 67, 0.15);\n",
              "      fill: #174EA6;\n",
              "    }\n",
              "\n",
              "    .colab-df-buttons div {\n",
              "      margin-bottom: 4px;\n",
              "    }\n",
              "\n",
              "    [theme=dark] .colab-df-convert {\n",
              "      background-color: #3B4455;\n",
              "      fill: #D2E3FC;\n",
              "    }\n",
              "\n",
              "    [theme=dark] .colab-df-convert:hover {\n",
              "      background-color: #434B5C;\n",
              "      box-shadow: 0px 1px 3px 1px rgba(0, 0, 0, 0.15);\n",
              "      filter: drop-shadow(0px 1px 2px rgba(0, 0, 0, 0.3));\n",
              "      fill: #FFFFFF;\n",
              "    }\n",
              "  </style>\n",
              "\n",
              "    <script>\n",
              "      const buttonEl =\n",
              "        document.querySelector('#df-2c940088-307f-4805-987f-38eed09ed21b button.colab-df-convert');\n",
              "      buttonEl.style.display =\n",
              "        google.colab.kernel.accessAllowed ? 'block' : 'none';\n",
              "\n",
              "      async function convertToInteractive(key) {\n",
              "        const element = document.querySelector('#df-2c940088-307f-4805-987f-38eed09ed21b');\n",
              "        const dataTable =\n",
              "          await google.colab.kernel.invokeFunction('convertToInteractive',\n",
              "                                                    [key], {});\n",
              "        if (!dataTable) return;\n",
              "\n",
              "        const docLinkHtml = 'Like what you see? Visit the ' +\n",
              "          '<a target=\"_blank\" href=https://colab.research.google.com/notebooks/data_table.ipynb>data table notebook</a>'\n",
              "          + ' to learn more about interactive tables.';\n",
              "        element.innerHTML = '';\n",
              "        dataTable['output_type'] = 'display_data';\n",
              "        await google.colab.output.renderOutput(dataTable, element);\n",
              "        const docLink = document.createElement('div');\n",
              "        docLink.innerHTML = docLinkHtml;\n",
              "        element.appendChild(docLink);\n",
              "      }\n",
              "    </script>\n",
              "  </div>\n",
              "\n",
              "\n",
              "<div id=\"df-1b35b3d0-0472-4fa2-a036-e234848569cc\">\n",
              "  <button class=\"colab-df-quickchart\" onclick=\"quickchart('df-1b35b3d0-0472-4fa2-a036-e234848569cc')\"\n",
              "            title=\"Suggest charts\"\n",
              "            style=\"display:none;\">\n",
              "\n",
              "<svg xmlns=\"http://www.w3.org/2000/svg\" height=\"24px\"viewBox=\"0 0 24 24\"\n",
              "     width=\"24px\">\n",
              "    <g>\n",
              "        <path d=\"M19 3H5c-1.1 0-2 .9-2 2v14c0 1.1.9 2 2 2h14c1.1 0 2-.9 2-2V5c0-1.1-.9-2-2-2zM9 17H7v-7h2v7zm4 0h-2V7h2v10zm4 0h-2v-4h2v4z\"/>\n",
              "    </g>\n",
              "</svg>\n",
              "  </button>\n",
              "\n",
              "<style>\n",
              "  .colab-df-quickchart {\n",
              "      --bg-color: #E8F0FE;\n",
              "      --fill-color: #1967D2;\n",
              "      --hover-bg-color: #E2EBFA;\n",
              "      --hover-fill-color: #174EA6;\n",
              "      --disabled-fill-color: #AAA;\n",
              "      --disabled-bg-color: #DDD;\n",
              "  }\n",
              "\n",
              "  [theme=dark] .colab-df-quickchart {\n",
              "      --bg-color: #3B4455;\n",
              "      --fill-color: #D2E3FC;\n",
              "      --hover-bg-color: #434B5C;\n",
              "      --hover-fill-color: #FFFFFF;\n",
              "      --disabled-bg-color: #3B4455;\n",
              "      --disabled-fill-color: #666;\n",
              "  }\n",
              "\n",
              "  .colab-df-quickchart {\n",
              "    background-color: var(--bg-color);\n",
              "    border: none;\n",
              "    border-radius: 50%;\n",
              "    cursor: pointer;\n",
              "    display: none;\n",
              "    fill: var(--fill-color);\n",
              "    height: 32px;\n",
              "    padding: 0;\n",
              "    width: 32px;\n",
              "  }\n",
              "\n",
              "  .colab-df-quickchart:hover {\n",
              "    background-color: var(--hover-bg-color);\n",
              "    box-shadow: 0 1px 2px rgba(60, 64, 67, 0.3), 0 1px 3px 1px rgba(60, 64, 67, 0.15);\n",
              "    fill: var(--button-hover-fill-color);\n",
              "  }\n",
              "\n",
              "  .colab-df-quickchart-complete:disabled,\n",
              "  .colab-df-quickchart-complete:disabled:hover {\n",
              "    background-color: var(--disabled-bg-color);\n",
              "    fill: var(--disabled-fill-color);\n",
              "    box-shadow: none;\n",
              "  }\n",
              "\n",
              "  .colab-df-spinner {\n",
              "    border: 2px solid var(--fill-color);\n",
              "    border-color: transparent;\n",
              "    border-bottom-color: var(--fill-color);\n",
              "    animation:\n",
              "      spin 1s steps(1) infinite;\n",
              "  }\n",
              "\n",
              "  @keyframes spin {\n",
              "    0% {\n",
              "      border-color: transparent;\n",
              "      border-bottom-color: var(--fill-color);\n",
              "      border-left-color: var(--fill-color);\n",
              "    }\n",
              "    20% {\n",
              "      border-color: transparent;\n",
              "      border-left-color: var(--fill-color);\n",
              "      border-top-color: var(--fill-color);\n",
              "    }\n",
              "    30% {\n",
              "      border-color: transparent;\n",
              "      border-left-color: var(--fill-color);\n",
              "      border-top-color: var(--fill-color);\n",
              "      border-right-color: var(--fill-color);\n",
              "    }\n",
              "    40% {\n",
              "      border-color: transparent;\n",
              "      border-right-color: var(--fill-color);\n",
              "      border-top-color: var(--fill-color);\n",
              "    }\n",
              "    60% {\n",
              "      border-color: transparent;\n",
              "      border-right-color: var(--fill-color);\n",
              "    }\n",
              "    80% {\n",
              "      border-color: transparent;\n",
              "      border-right-color: var(--fill-color);\n",
              "      border-bottom-color: var(--fill-color);\n",
              "    }\n",
              "    90% {\n",
              "      border-color: transparent;\n",
              "      border-bottom-color: var(--fill-color);\n",
              "    }\n",
              "  }\n",
              "</style>\n",
              "\n",
              "  <script>\n",
              "    async function quickchart(key) {\n",
              "      const quickchartButtonEl =\n",
              "        document.querySelector('#' + key + ' button');\n",
              "      quickchartButtonEl.disabled = true;  // To prevent multiple clicks.\n",
              "      quickchartButtonEl.classList.add('colab-df-spinner');\n",
              "      try {\n",
              "        const charts = await google.colab.kernel.invokeFunction(\n",
              "            'suggestCharts', [key], {});\n",
              "      } catch (error) {\n",
              "        console.error('Error during call to suggestCharts:', error);\n",
              "      }\n",
              "      quickchartButtonEl.classList.remove('colab-df-spinner');\n",
              "      quickchartButtonEl.classList.add('colab-df-quickchart-complete');\n",
              "    }\n",
              "    (() => {\n",
              "      let quickchartButtonEl =\n",
              "        document.querySelector('#df-1b35b3d0-0472-4fa2-a036-e234848569cc button');\n",
              "      quickchartButtonEl.style.display =\n",
              "        google.colab.kernel.accessAllowed ? 'block' : 'none';\n",
              "    })();\n",
              "  </script>\n",
              "</div>\n",
              "\n",
              "  <div id=\"id_95f2f5aa-71c8-497c-a37e-3326b59bfbd4\">\n",
              "    <style>\n",
              "      .colab-df-generate {\n",
              "        background-color: #E8F0FE;\n",
              "        border: none;\n",
              "        border-radius: 50%;\n",
              "        cursor: pointer;\n",
              "        display: none;\n",
              "        fill: #1967D2;\n",
              "        height: 32px;\n",
              "        padding: 0 0 0 0;\n",
              "        width: 32px;\n",
              "      }\n",
              "\n",
              "      .colab-df-generate:hover {\n",
              "        background-color: #E2EBFA;\n",
              "        box-shadow: 0px 1px 2px rgba(60, 64, 67, 0.3), 0px 1px 3px 1px rgba(60, 64, 67, 0.15);\n",
              "        fill: #174EA6;\n",
              "      }\n",
              "\n",
              "      [theme=dark] .colab-df-generate {\n",
              "        background-color: #3B4455;\n",
              "        fill: #D2E3FC;\n",
              "      }\n",
              "\n",
              "      [theme=dark] .colab-df-generate:hover {\n",
              "        background-color: #434B5C;\n",
              "        box-shadow: 0px 1px 3px 1px rgba(0, 0, 0, 0.15);\n",
              "        filter: drop-shadow(0px 1px 2px rgba(0, 0, 0, 0.3));\n",
              "        fill: #FFFFFF;\n",
              "      }\n",
              "    </style>\n",
              "    <button class=\"colab-df-generate\" onclick=\"generateWithVariable('network')\"\n",
              "            title=\"Generate code using this dataframe.\"\n",
              "            style=\"display:none;\">\n",
              "\n",
              "  <svg xmlns=\"http://www.w3.org/2000/svg\" height=\"24px\"viewBox=\"0 0 24 24\"\n",
              "       width=\"24px\">\n",
              "    <path d=\"M7,19H8.4L18.45,9,17,7.55,7,17.6ZM5,21V16.75L18.45,3.32a2,2,0,0,1,2.83,0l1.4,1.43a1.91,1.91,0,0,1,.58,1.4,1.91,1.91,0,0,1-.58,1.4L9.25,21ZM18.45,9,17,7.55Zm-12,3A5.31,5.31,0,0,0,4.9,8.1,5.31,5.31,0,0,0,1,6.5,5.31,5.31,0,0,0,4.9,4.9,5.31,5.31,0,0,0,6.5,1,5.31,5.31,0,0,0,8.1,4.9,5.31,5.31,0,0,0,12,6.5,5.46,5.46,0,0,0,6.5,12Z\"/>\n",
              "  </svg>\n",
              "    </button>\n",
              "    <script>\n",
              "      (() => {\n",
              "      const buttonEl =\n",
              "        document.querySelector('#id_95f2f5aa-71c8-497c-a37e-3326b59bfbd4 button.colab-df-generate');\n",
              "      buttonEl.style.display =\n",
              "        google.colab.kernel.accessAllowed ? 'block' : 'none';\n",
              "\n",
              "      buttonEl.onclick = () => {\n",
              "        google.colab.notebook.generateWithVariable('network');\n",
              "      }\n",
              "      })();\n",
              "    </script>\n",
              "  </div>\n",
              "\n",
              "    </div>\n",
              "  </div>\n"
            ],
            "application/vnd.google.colaboratory.intrinsic+json": {
              "type": "dataframe",
              "variable_name": "network"
            }
          },
          "metadata": {},
          "execution_count": 58
        }
      ]
    },
    {
      "cell_type": "code",
      "source": [
        "# Find number of packets greater/less than 500 Megabytes\n",
        "network[['PacketLength']]\n",
        "greaterThan500 = network.query('PacketLength > 500').shape[0]\n",
        "lessThan500 = network.query('PacketLength < 500').shape[0]"
      ],
      "metadata": {
        "id": "gZ4QK9XcEDTk"
      },
      "execution_count": 59,
      "outputs": []
    },
    {
      "cell_type": "code",
      "source": [
        "# Number of attacks with packets greater than 500 Megabytes\n",
        "greaterThan500"
      ],
      "metadata": {
        "colab": {
          "base_uri": "https://localhost:8080/"
        },
        "id": "kIShi4WHHw07",
        "outputId": "940f5e11-083c-458a-eaea-03f3b8cb18de"
      },
      "execution_count": 60,
      "outputs": [
        {
          "output_type": "execute_result",
          "data": {
            "text/plain": [
              "9177"
            ]
          },
          "metadata": {},
          "execution_count": 60
        }
      ]
    },
    {
      "cell_type": "code",
      "source": [
        "# Number of attacks with packets less than 500 Megabytes\n",
        "lessThan500"
      ],
      "metadata": {
        "colab": {
          "base_uri": "https://localhost:8080/"
        },
        "id": "pO2ACyYIHx2j",
        "outputId": "1cabc554-1f66-44b2-ebde-a56c291ed238"
      },
      "execution_count": 61,
      "outputs": [
        {
          "output_type": "execute_result",
          "data": {
            "text/plain": [
              "4082"
            ]
          },
          "metadata": {},
          "execution_count": 61
        }
      ]
    },
    {
      "cell_type": "code",
      "source": [
        "totalLength = greaterThan500+lessThan500\n",
        "totalLength"
      ],
      "metadata": {
        "colab": {
          "base_uri": "https://localhost:8080/"
        },
        "id": "KlMGegOSHEgY",
        "outputId": "6d4addfa-4434-45b8-d41e-a2dd4c7438c9"
      },
      "execution_count": 62,
      "outputs": [
        {
          "output_type": "execute_result",
          "data": {
            "text/plain": [
              "13259"
            ]
          },
          "metadata": {},
          "execution_count": 62
        }
      ]
    },
    {
      "cell_type": "markdown",
      "source": [
        "We can now create a likelihood distribution. We know that the total number of data entries is 13259 from the previous code segment. Thus, we can create a distribution in order to represent our likelihood based on our observations and evidence from real life."
      ],
      "metadata": {
        "id": "wEE3xfP2FyBh"
      }
    },
    {
      "cell_type": "code",
      "source": [
        "# Likelihood distribution\n",
        "pz.Binomial(n = 9202, p = 9177/13259).plot_pdf()"
      ],
      "metadata": {
        "colab": {
          "base_uri": "https://localhost:8080/",
          "height": 448
        },
        "id": "vvVrhIMXHrnN",
        "outputId": "a3979e75-2bfa-456c-f8af-d6447eda7c31"
      },
      "execution_count": 63,
      "outputs": [
        {
          "output_type": "execute_result",
          "data": {
            "text/plain": [
              "<Axes: >"
            ]
          },
          "metadata": {},
          "execution_count": 63
        },
        {
          "output_type": "display_data",
          "data": {
            "text/plain": [
              "<Figure size 640x480 with 1 Axes>"
            ],
            "image/png": "[encoded data removed]"
          },
          "metadata": {}
        }
      ]
    },
    {
      "cell_type": "markdown",
      "source": [
        "## Posterior (Making Predictions)"
      ],
      "metadata": {
        "id": "C4diTiqqIK8o"
      }
    },
    {
      "cell_type": "markdown",
      "source": [
        "In our prior, I denoted that I was approximately 70% confident that network attack throughput would be above 500 Mbps. This prior was based on my thoughts on the state of cybersecurity in our modern society. However, I want to incorporate more real world data in order to strengthen my prediction. The cybersecurity dataset from Kaggle includes data form a variety of attacks. For this project, I chose to include the data entries that inlude either \"Intrusion\" or \"DDOS\", as these are the attacks that incorporate very large or small amounts of packet sizes. In total, there were 13,259 data entries that were a part of the likelihood. Of these data entries, 9177 attacks had packet sizes greater than 500 megabytes while 4082 attacks have packet sizes that are lower than 500 megabytes.\n",
        "\n",
        "The subsequent section will show my posterior using th PYMC library to visualize my distribution.\n"
      ],
      "metadata": {
        "id": "_TX_r5ILIPFG"
      }
    },
    {
      "cell_type": "code",
      "source": [
        "# 1 represents entries with packet sizes greater than 500 megabytes\n",
        "greater500Network = np.repeat(1, 9177)\n",
        "\n",
        "# 0 represents entries with packet sizes less than 500 megabytes\n",
        "\n",
        "less500Network = np.repeat(0, 4082)\n",
        "\n",
        "#combine the data entries into a single array\n",
        "finalData = np.concatenate( [greater500Network,less500Network] )\n",
        "\n",
        "with pm.Model() as wmby_FT_model:\n",
        "  # prior\n",
        "  θ = pm.Beta('θ' , alpha = 70. , beta = 30.)\n",
        "\n",
        "  #likelihood\n",
        "  y = pm.Bernoulli('y', p = θ, observed = finalData)\n",
        "\n",
        "  #sample for posterior\n",
        "  posterior_network = pm.sample(1000)\n"
      ],
      "metadata": {
        "colab": {
          "base_uri": "https://localhost:8080/",
          "height": 57
        },
        "id": "SAlT9jW0NOEc",
        "outputId": "fe8ec79d-11b1-48fe-c388-8c3c9fc633af"
      },
      "execution_count": 64,
      "outputs": [
        {
          "output_type": "display_data",
          "data": {
            "text/plain": [
              "<IPython.core.display.HTML object>"
            ],
            "text/html": [
              "\n",
              "<style>\n",
              "    /* Turns off some styling */\n",
              "    progress {\n",
              "        /* gets rid of default border in Firefox and Opera. */\n",
              "        border: none;\n",
              "        /* Needs to be in here for Safari polyfill so background images work as expected. */\n",
              "        background-size: auto;\n",
              "    }\n",
              "    progress:not([value]), progress:not([value])::-webkit-progress-bar {\n",
              "        background: repeating-linear-gradient(45deg, #7e7e7e, #7e7e7e 10px, #5c5c5c 10px, #5c5c5c 20px);\n",
              "    }\n",
              "    .progress-bar-interrupted, .progress-bar-interrupted::-webkit-progress-bar {\n",
              "        background: #F44336;\n",
              "    }\n",
              "</style>\n"
            ]
          },
          "metadata": {}
        },
        {
          "output_type": "display_data",
          "data": {
            "text/plain": [
              "<IPython.core.display.HTML object>"
            ],
            "text/html": [
              "\n",
              "    <div>\n",
              "      <progress value='2000' class='' max='2000' style='width:300px; height:20px; vertical-align: middle;'></progress>\n",
              "      100.00% [2000/2000 00:01&lt;00:00 Sampling chain 0, 0 divergences]\n",
              "    </div>\n",
              "    "
            ]
          },
          "metadata": {}
        },
        {
          "output_type": "display_data",
          "data": {
            "text/plain": [
              "<IPython.core.display.HTML object>"
            ],
            "text/html": [
              "\n",
              "<style>\n",
              "    /* Turns off some styling */\n",
              "    progress {\n",
              "        /* gets rid of default border in Firefox and Opera. */\n",
              "        border: none;\n",
              "        /* Needs to be in here for Safari polyfill so background images work as expected. */\n",
              "        background-size: auto;\n",
              "    }\n",
              "    progress:not([value]), progress:not([value])::-webkit-progress-bar {\n",
              "        background: repeating-linear-gradient(45deg, #7e7e7e, #7e7e7e 10px, #5c5c5c 10px, #5c5c5c 20px);\n",
              "    }\n",
              "    .progress-bar-interrupted, .progress-bar-interrupted::-webkit-progress-bar {\n",
              "        background: #F44336;\n",
              "    }\n",
              "</style>\n"
            ]
          },
          "metadata": {}
        },
        {
          "output_type": "display_data",
          "data": {
            "text/plain": [
              "<IPython.core.display.HTML object>"
            ],
            "text/html": [
              "\n",
              "    <div>\n",
              "      <progress value='2000' class='' max='2000' style='width:300px; height:20px; vertical-align: middle;'></progress>\n",
              "      100.00% [2000/2000 00:01&lt;00:00 Sampling chain 1, 0 divergences]\n",
              "    </div>\n",
              "    "
            ]
          },
          "metadata": {}
        }
      ]
    },
    {
      "cell_type": "code",
      "source": [
        "az.plot_posterior(posterior_network)"
      ],
      "metadata": {
        "colab": {
          "base_uri": "https://localhost:8080/",
          "height": 476
        },
        "id": "f_6HQpyjN7PB",
        "outputId": "f48c1542-cba2-4837-fc51-e4be65e71a08"
      },
      "execution_count": 69,
      "outputs": [
        {
          "output_type": "execute_result",
          "data": {
            "text/plain": [
              "<Axes: title={'center': 'θ'}>"
            ]
          },
          "metadata": {},
          "execution_count": 69
        },
        {
          "output_type": "display_data",
          "data": {
            "text/plain": [
              "<Figure size 640x480 with 1 Axes>"
            ],
            "image/png": "[encoded data removed]"
          },
          "metadata": {}
        }
      ]
    },
    {
      "cell_type": "markdown",
      "source": [
        "## PYMC Graph Analysis"
      ],
      "metadata": {
        "id": "m17H-EmnSQCH"
      }
    },
    {
      "cell_type": "markdown",
      "source": [
        "### Conclusions\n",
        "* The likelihood of a volumetric network attack of having greater than 500 Megabytes is around 69%.\n",
        "* This result does not seem very surprising to me. In fact, it very closely aligns with my thoughts about behavior of network attacks.\n",
        "* The mean of my prior is 70%, which is very close to the mean of the prediction which is 69%.\n",
        "* The final posterior matches closely with my prior distribution that I chose. This emphasizes how my exepctations about a majority of network attacks using larger packet sizes matches the final posterior based on both observation and past generalizations.\n",
        "* Although it is similar in nature, it raises some interesting questions about network attacks in general.\n",
        "* Although my prior was accurate to the predictions for volumetric network attacks, differing patterns may be found for malware of ransomware attacks, which is worth investigating for more effective countermeasures.\n",
        "\n",
        "### Insights\n",
        "I feel that it is a good prediction, especially as it matches the growing trends of cyber attacks.In general, with much of our society becoming digital, network attacks have only been growing in prevalence. It has become much easier to share information online, motivating attackers to try and steal this information. Thus, the consideration of the changing times informs the strong prediction. However, it is limited in its scope since it considers these attacks on institutions, creating behaviors that may differ for attacks on different organizations or individuals."
      ],
      "metadata": {
        "id": "iS5u9Pf0PTIo"
      }
    },
    {
      "cell_type": "markdown",
      "source": [
        "## Want to know more? (Context and Assumptions)"
      ],
      "metadata": {
        "id": "mV7ajulBUleb"
      }
    },
    {
      "cell_type": "markdown",
      "source": [
        "### More Information on Context"
      ],
      "metadata": {
        "id": "ZQz8hDOjUuwB"
      }
    },
    {
      "cell_type": "markdown",
      "source": [
        "DDOS attacks and various other cyber security attacks have grown in prominence in our modern society. With the digital revolution taking our society by storm, much of society has transformed into a digital world. We keep our personal data and secrets online, which motivates attackers to try and steal this sensitive data. This informs their decisions to create DDOS attacks and create havoc across numerous networks around the globe.\n",
        "\n",
        "Specifically, these DDOS attacks have contributed to the loss of infrastructure, medical records, and classified government documents. This represents the extent to which DDOS attacks are being created and displays the dire need to develop better metrics of defense.\n",
        "\n",
        "According to [a10networks.com](https://www.a10networks.com/blog/5-most-famous-ddos-attacks/://), in November 2021, Microsoft was able to successfully defend against an extremely large DDOS attack against Azure, one of their cloud computing services. This DDOS attack had a throughput of 3.45 Terabytes per second and had 340 million packets sent per second. This source classifies this cyber attack as one of the largest attacks ever recorded.\n",
        "\n",
        "As a result, recognizing the size of certain cyber attacks can help in forecasting certain countermeasures. Since cyber attacks with larger payload sizes will have different signatures, recognizing these sizes can inform better prediction models.\n",
        "\n",
        "Here is a bit more context behind the situation. Whenever an attacker decides to attack an institution, they have to make specific choices about the behavior of their network attack. For example, these attackers can choose to attack certain protocols, data sizes, and other features in order to create a unique attack. On the flip side, institutions and other organizations work to detect these network attacks by trying to detect these network attacks based on these behaviors. Specifically, intrusion detection systems are tools that can detect attacks and network anomolies from these behaviors. Thus, there is a dire need to detect the probability of certain features occuring in a network attack, so that these attacks can be detected in a more efficient manner.\n",
        "\n",
        "For the purposes of this project, I will be looking at the amount of data that attackers use to send their attacks. I want to further understand the behavior of attackers by analyzing the likelihood of an attacker to use greater than the average packet sizes for volumetric attacks. I am confident that most DDOS and Intrusion attacks will have packet sizes with greater than 500 Megabytes because more data will allow attackers to cause more network downtime."
      ],
      "metadata": {
        "id": "bfZBlUUVVBSB"
      }
    },
    {
      "cell_type": "markdown",
      "source": [
        "### More Information on Assumptions"
      ],
      "metadata": {
        "id": "tqogwsLxVCTC"
      }
    },
    {
      "cell_type": "markdown",
      "source": [
        "The primary step in making our model for network attacks and their sizes is to consider our prior. Our prior is based on previous observations, options, or general knowledge about a certain topic. The prior is based off certain assumptions and context that is then used in conjunction with observable data to make a final prediction.\n",
        "\n",
        "Below are the assumptions made for this model based on statistical data and general knowledge about the topic.\n",
        "\n",
        "\n",
        "1.   Intrusion attacks and DDOS attacks will continue grow in severity and occurence, especially attacks that target larger companies and infrastructures that require a lot of data and time to infiltrate. This assumption is formed based on the \"Cisco Annual Internet Report\", which displays an increasing trend in cyber attacks from 2018 to 2023, rising from 7.9 to 15.4 million.\n",
        "2.   Based on my prior knowledge of entwork attacks, I am assumng that a majority of these cyber attacks will be based on TCP. Most network attacks are based on TCP to ensure transmission of data. This often results in more data being sent over the network and informs my prior that a majority of these network attacks will be using TCP, which signifies the transmission of more data.\n",
        "3. The assumption made in [2] is also justified by Cloudfare's dataset. Specifically, according to [Cloudfare](https://blog.cloudflare.com/ddos-threat-report-for-2024-q2/#:~:text=Network%2Dlayer%20DDoS%20attack%20vectors&text=SYN%20floods%20came%20in%20second,all%20network%2Dlayer%20DDoS%20attacks.://), 38% of network layer DDOS attacks are based on TCP which further supports my generalization made about the nature of the attack.\n",
        "4. It is also important to consider the context behind the situation when making assumptions. Often, many people, including those that are unexperienced, are able to code simple cyber attacks due to custom libraries. They are able to exploit libraries and tools that would otherwise be used for good. Due to their inexperience, they are not aware of how to make network attacks efficient. This can often result in large network attacks or even incorrect ones that send too much data at once.\n",
        "5. Another assumption is that the attacker has the freedom to chose either a large or small payload size for the network attacks. Thus, we can assume that each attack is indpendent and there is likely change of either situation occuring.\n",
        "6. Another assumption that I am going to make is independence. I am assuming that any of the attacks, even if they occured subsequently, are not related to each other. Thus, I am claiming that each of the attacks were formed by individuals with differing thoughts and autonomy.\n",
        "7. The final assumption will be based on the dataset about the average size of network attacks. According to [Cloudfare](https://blog.cloudflare.com/ddos-attacks-have-evolved-and-so-should-your-ddos-protection/), in 2020, 60% of volumetric attacks were under 500 Mb. However, due to the recent statistics that portray an increasing number of network attacks, I assume that around 70% of the volumetric attacks will have packet sizes over 500 Mb.\n",
        "\n",
        "For this project, we care about the payload size and the attack itself. for this reason, we will use the alpha value of 70 and the beta value of 30. I am fairly confident in my predictions, especially since Cloudfare has seen upwards trends, I believe that the beta value will be 30 and the alpha value will be 70."
      ],
      "metadata": {
        "id": "4qOnfxVqVLLm"
      }
    }
  ]
}